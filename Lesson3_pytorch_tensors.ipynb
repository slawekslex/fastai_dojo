{
 "cells": [
  {
   "cell_type": "markdown",
   "metadata": {},
   "source": [
    "## Practising tensor manipulation\n",
    "\n",
    "This notebook contains excercises to get comfortable with tensor arithmetic in Pytorch. Run the cells from top to bottom and fill the cells with your code when asked to. \n",
    "\n",
    "Each task can be done in multiple ways. In particular it's possible to do with a single line using only pytorch functions, with no loops or extra variables. Try to solve it that way if you can.\n",
    "\n",
    "You don't need a GPU to complete it, you just need fastai2 and pytorch installed.\n",
    "\n",
    "References:\n",
    "* [Pytorch tensor docs](https://pytorch.org/docs/stable/tensors.html)\n",
    "* [Broadcasting](https://pytorch.org/docs/stable/notes/broadcasting.html)\n"
   ]
  },
  {
   "cell_type": "code",
   "execution_count": null,
   "metadata": {},
   "outputs": [],
   "source": [
    "%load_ext autoreload\n",
    "%autoreload 2\n",
    "\n",
    "from fastai2.vision.all import *\n",
    "from L3_solutions import *"
   ]
  },
  {
   "cell_type": "code",
   "execution_count": null,
   "metadata": {},
   "outputs": [],
   "source": [
    "img = Image.open('samples/kitten.jpg')\n",
    "img"
   ]
  },
  {
   "cell_type": "code",
   "execution_count": null,
   "metadata": {},
   "outputs": [],
   "source": [
    "img_tensor = tensor(img)\n",
    "img_tensor.shape"
   ]
  },
  {
   "cell_type": "markdown",
   "metadata": {},
   "source": [
    "### Task 1\n",
    "The image above has 408 rows and 612 columns and three channels. Storing them in that order is called HWC format (Height, Width, Channel). Rearange the data so the channel comes first (CHW). Your new shape should be \\[3,408,612\\]"
   ]
  },
  {
   "cell_type": "code",
   "execution_count": null,
   "metadata": {},
   "outputs": [],
   "source": [
    "new_tensor = ... # put your code here"
   ]
  },
  {
   "cell_type": "code",
   "execution_count": null,
   "metadata": {
    "scrolled": true
   },
   "outputs": [],
   "source": [
    "#test,\n",
    "assert new_tensor.equal(sol1(img_tensor))"
   ]
  },
  {
   "cell_type": "code",
   "execution_count": null,
   "metadata": {},
   "outputs": [],
   "source": [
    "#Spoiler, run this for a sample solution\n",
    "sol1??"
   ]
  },
  {
   "cell_type": "markdown",
   "metadata": {},
   "source": [
    "### Task 2\n",
    "Turn the image into a grayscale by taking the average across the 3 channels for every pixel"
   ]
  },
  {
   "cell_type": "code",
   "execution_count": null,
   "metadata": {
    "scrolled": true
   },
   "outputs": [],
   "source": [
    "gray_tensor = ... # put your code here"
   ]
  },
  {
   "cell_type": "code",
   "execution_count": null,
   "metadata": {},
   "outputs": [],
   "source": [
    "#test, you should see a gray image of the cat\n",
    "test_eq(gray_tensor.shape, img_tensor.shape[:-1])\n",
    "show_image(gray_tensor, cmap='gray')"
   ]
  },
  {
   "cell_type": "code",
   "execution_count": null,
   "metadata": {
    "scrolled": true
   },
   "outputs": [],
   "source": [
    "#Spoiler, run this for a sample solution\n",
    "sol2??"
   ]
  },
  {
   "cell_type": "markdown",
   "metadata": {},
   "source": [
    "### Task 3\n",
    "Turn the grayscale tensor into a rank 1 tensor which concatenates the columns left to right, top to bottom. For example: \n",
    "\n",
    "```tensor([[1, 2],\n",
    "        [3, 4])```\n",
    "\n",
    "should become `[1, 3, 2, 4]`"
   ]
  },
  {
   "cell_type": "code",
   "execution_count": null,
   "metadata": {},
   "outputs": [],
   "source": [
    "dim1_tensor = ...# put your code here"
   ]
  },
  {
   "cell_type": "code",
   "execution_count": null,
   "metadata": {},
   "outputs": [],
   "source": [
    "#test\n",
    "assert len(dim1_tensor.shape) == 1 and dim1_tensor.shape[0] == gray_tensor.shape[0] * gray_tensor.shape[1]\n",
    "test_eq(dim1_tensor, sol3(gray_tensor))"
   ]
  },
  {
   "cell_type": "code",
   "execution_count": null,
   "metadata": {},
   "outputs": [],
   "source": [
    "#Spoiler, run this for a sample solution\n",
    "sol3??"
   ]
  },
  {
   "cell_type": "markdown",
   "metadata": {},
   "source": [
    "### Task 4\n",
    "A simple way to downsample an image would be to divide it into 2x2 tiles and keep just top left pixel of each tile.\n",
    "for example:\n",
    "```\n",
    "tensor([[ 1,  2,  3,  4],\n",
    "        [ 5,  6,  7,  8],\n",
    "        [ 9, 10, 11, 12],\n",
    "        [13, 14, 15, 16]])\n",
    "```\n",
    "becomes\n",
    "```\n",
    "tensor([[ 1,  3],\n",
    "        [ 9, 11]])\n",
    "```\n",
    "Downsample the `img_tensor` to get a tensor four times smaller still showing the same image of a kitten"
   ]
  },
  {
   "cell_type": "code",
   "execution_count": null,
   "metadata": {
    "scrolled": true
   },
   "outputs": [],
   "source": [
    "downsampled = ...# put your code here\n"
   ]
  },
  {
   "cell_type": "code",
   "execution_count": null,
   "metadata": {
    "scrolled": true
   },
   "outputs": [],
   "source": [
    "#test\n",
    "assert downsampled.shape == (img_tensor.shape[0]//2, img_tensor.shape[1]//2,3)\n",
    "\n",
    "show_image(downsampled)"
   ]
  },
  {
   "cell_type": "code",
   "execution_count": null,
   "metadata": {},
   "outputs": [],
   "source": [
    "#Spoiler, run this for a sample solution\n",
    "sol4??"
   ]
  },
  {
   "cell_type": "markdown",
   "metadata": {},
   "source": [
    "### Task 5\n",
    "A simple way to upsample an image would be to replace each pixel with a 2x2 square with four copies of that pixel. Upsample the `img_tensor` to get a tensor four times larger still showing the same image of a kitten"
   ]
  },
  {
   "cell_type": "code",
   "execution_count": null,
   "metadata": {
    "scrolled": true
   },
   "outputs": [],
   "source": [
    "upsampled = ...# put your code here"
   ]
  },
  {
   "cell_type": "code",
   "execution_count": null,
   "metadata": {
    "scrolled": false
   },
   "outputs": [],
   "source": [
    "#test\n",
    "assert upsampled.shape == (img_tensor.shape[0]*2, img_tensor.shape[1]*2,3)\n",
    "\n",
    "show_image(upsampled)"
   ]
  },
  {
   "cell_type": "code",
   "execution_count": null,
   "metadata": {
    "scrolled": true
   },
   "outputs": [],
   "source": [
    "#Spoiler, run this for a sample solution\n",
    "sol5??"
   ]
  },
  {
   "cell_type": "markdown",
   "metadata": {},
   "source": [
    "### Task 6\n",
    "In the lesson Jeremy showed a simple model where a digit is classified by comparing to the mean of all threes and the mean of all sevens.\n",
    "\n",
    "Another idea is for the given image to find which of the other images is the most similar to it, and use that as its class. Implement the `most_similar` function bellow that for a given image finds the index of the most similar image in terms of [Manhattan (L1) distance](https://en.wikipedia.org/wiki/Taxicab_geometry)"
   ]
  },
  {
   "cell_type": "code",
   "execution_count": null,
   "metadata": {},
   "outputs": [],
   "source": [
    "#load data into tensors\n",
    "def load_from(path): return torch.stack([tensor(Image.open(o)) for o in path.ls()])\n",
    "path = untar_data(URLs.MNIST_SAMPLE)\n",
    "train_threes  = load_from(path/'train'/'3')\n",
    "train_sevens  = load_from(path/'train'/'7')\n",
    "valid_threes = load_from(path/'valid'/'3')\n",
    "valid_sevens = load_from(path/'valid'/'7')\n",
    "train_all = torch.cat((train_threes,train_sevens))\n"
   ]
  },
  {
   "cell_type": "code",
   "execution_count": null,
   "metadata": {},
   "outputs": [],
   "source": [
    "#return the index in dataset with the most similar element\n",
    "def most_similar(x, dataset): ...# put your code here"
   ]
  },
  {
   "cell_type": "code",
   "execution_count": null,
   "metadata": {
    "scrolled": true
   },
   "outputs": [],
   "source": [
    "#test, you should see aover 97% accuracy here. It takes a while to run\n",
    "correct_threes = [most_similar(tt,train_all) < len(train_threes) for tt in valid_threes]\n",
    "correct_sevens = [most_similar(tt,train_all) >= len(train_threes) for tt in valid_sevens]\n",
    "acc = 100 * tensor(correct_threes + correct_sevens).float().mean()\n",
    "f'Your model has {acc:.2f}% accuracy!'"
   ]
  },
  {
   "cell_type": "code",
   "execution_count": null,
   "metadata": {},
   "outputs": [],
   "source": [
    "#Spoiler, run this for a sample solution\n",
    "sol6??"
   ]
  },
  {
   "cell_type": "markdown",
   "metadata": {},
   "source": [
    "### Bonus\n",
    "The task 6 solution classifies one image at a time in a loop. Try to change it to find nearest indices for a whole batch of images at once.\n",
    "It should give the same result, but much faster. Especially on a GPU"
   ]
  },
  {
   "cell_type": "code",
   "execution_count": null,
   "metadata": {},
   "outputs": [],
   "source": []
  }
 ],
 "metadata": {
  "kernelspec": {
   "display_name": "Python 3",
   "language": "python",
   "name": "python3"
  },
  "language_info": {
   "codemirror_mode": {
    "name": "ipython",
    "version": 3
   },
   "file_extension": ".py",
   "mimetype": "text/x-python",
   "name": "python",
   "nbconvert_exporter": "python",
   "pygments_lexer": "ipython3",
   "version": "3.7.7"
  }
 },
 "nbformat": 4,
 "nbformat_minor": 4
}
